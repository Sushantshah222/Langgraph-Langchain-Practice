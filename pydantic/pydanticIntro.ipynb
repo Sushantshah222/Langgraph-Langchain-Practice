{
 "cells": [
  {
   "cell_type": "markdown",
   "id": "326fd334",
   "metadata": {},
   "source": [
    "### 1.Pydantic Basics"
   ]
  },
  {
   "cell_type": "code",
   "execution_count": 24,
   "id": "1b3929e0",
   "metadata": {},
   "outputs": [],
   "source": [
    "from pydantic import BaseModel\n"
   ]
  },
  {
   "cell_type": "code",
   "execution_count": 26,
   "id": "b721ee67",
   "metadata": {},
   "outputs": [
    {
     "ename": "ValidationError",
     "evalue": "1 validation error for Students\ngrade\n  Input should be a valid string [type=string_type, input_value=90, input_type=int]\n    For further information visit https://errors.pydantic.dev/2.11/v/string_type",
     "output_type": "error",
     "traceback": [
      "\u001b[0;31m---------------------------------------------------------------------------\u001b[0m",
      "\u001b[0;31mValidationError\u001b[0m                           Traceback (most recent call last)",
      "Cell \u001b[0;32mIn[26], line 6\u001b[0m\n\u001b[1;32m      3\u001b[0m     age: \u001b[38;5;28mint\u001b[39m\n\u001b[1;32m      4\u001b[0m     grade: \u001b[38;5;28mstr\u001b[39m\n\u001b[0;32m----> 6\u001b[0m student1 \u001b[38;5;241m=\u001b[39m \u001b[43mStudents\u001b[49m\u001b[43m(\u001b[49m\u001b[43mname\u001b[49m\u001b[38;5;241;43m=\u001b[39;49m\u001b[38;5;124;43m\"\u001b[39;49m\u001b[38;5;124;43mSushant Shah\u001b[39;49m\u001b[38;5;124;43m\"\u001b[39;49m\u001b[43m,\u001b[49m\u001b[43m \u001b[49m\u001b[43mage\u001b[49m\u001b[38;5;241;43m=\u001b[39;49m\u001b[38;5;241;43m18\u001b[39;49m\u001b[43m,\u001b[49m\u001b[43m \u001b[49m\u001b[43mgrade\u001b[49m\u001b[38;5;241;43m=\u001b[39;49m\u001b[38;5;241;43m90\u001b[39;49m\u001b[43m)\u001b[49m\n\u001b[1;32m      7\u001b[0m \u001b[38;5;28mprint\u001b[39m(student1)\n",
      "File \u001b[0;32m~/Documents/Codes/Langgraph-Langchain-Practice/.venv/lib/python3.9/site-packages/pydantic/main.py:253\u001b[0m, in \u001b[0;36mBaseModel.__init__\u001b[0;34m(self, **data)\u001b[0m\n\u001b[1;32m    251\u001b[0m \u001b[38;5;66;03m# `__tracebackhide__` tells pytest and some other tools to omit this function from tracebacks\u001b[39;00m\n\u001b[1;32m    252\u001b[0m __tracebackhide__ \u001b[38;5;241m=\u001b[39m \u001b[38;5;28;01mTrue\u001b[39;00m\n\u001b[0;32m--> 253\u001b[0m validated_self \u001b[38;5;241m=\u001b[39m \u001b[38;5;28;43mself\u001b[39;49m\u001b[38;5;241;43m.\u001b[39;49m\u001b[43m__pydantic_validator__\u001b[49m\u001b[38;5;241;43m.\u001b[39;49m\u001b[43mvalidate_python\u001b[49m\u001b[43m(\u001b[49m\u001b[43mdata\u001b[49m\u001b[43m,\u001b[49m\u001b[43m \u001b[49m\u001b[43mself_instance\u001b[49m\u001b[38;5;241;43m=\u001b[39;49m\u001b[38;5;28;43mself\u001b[39;49m\u001b[43m)\u001b[49m\n\u001b[1;32m    254\u001b[0m \u001b[38;5;28;01mif\u001b[39;00m \u001b[38;5;28mself\u001b[39m \u001b[38;5;129;01mis\u001b[39;00m \u001b[38;5;129;01mnot\u001b[39;00m validated_self:\n\u001b[1;32m    255\u001b[0m     warnings\u001b[38;5;241m.\u001b[39mwarn(\n\u001b[1;32m    256\u001b[0m         \u001b[38;5;124m'\u001b[39m\u001b[38;5;124mA custom validator is returning a value other than `self`.\u001b[39m\u001b[38;5;130;01m\\n\u001b[39;00m\u001b[38;5;124m'\u001b[39m\n\u001b[1;32m    257\u001b[0m         \u001b[38;5;124m\"\u001b[39m\u001b[38;5;124mReturning anything other than `self` from a top level model validator isn\u001b[39m\u001b[38;5;124m'\u001b[39m\u001b[38;5;124mt supported when validating via `__init__`.\u001b[39m\u001b[38;5;130;01m\\n\u001b[39;00m\u001b[38;5;124m\"\u001b[39m\n\u001b[1;32m    258\u001b[0m         \u001b[38;5;124m'\u001b[39m\u001b[38;5;124mSee the `model_validator` docs (https://docs.pydantic.dev/latest/concepts/validators/#model-validators) for more details.\u001b[39m\u001b[38;5;124m'\u001b[39m,\n\u001b[1;32m    259\u001b[0m         stacklevel\u001b[38;5;241m=\u001b[39m\u001b[38;5;241m2\u001b[39m,\n\u001b[1;32m    260\u001b[0m     )\n",
      "\u001b[0;31mValidationError\u001b[0m: 1 validation error for Students\ngrade\n  Input should be a valid string [type=string_type, input_value=90, input_type=int]\n    For further information visit https://errors.pydantic.dev/2.11/v/string_type"
     ]
    }
   ],
   "source": [
    "class Students(BaseModel):\n",
    "    name: str\n",
    "    age: int\n",
    "    grade: str\n",
    "\n",
    "student1 = Students(name=\"Sushant Shah\", age=18, grade=90)\n",
    "print(student1)"
   ]
  },
  {
   "cell_type": "code",
   "execution_count": null,
   "id": "1cf332bd",
   "metadata": {},
   "outputs": [
    {
     "name": "stdout",
     "output_type": "stream",
     "text": [
      "Students(name='Sushant Shah', age=18, grade=99)\n"
     ]
    }
   ],
   "source": [
    "from dataclasses import dataclass\n",
    "\n",
    "@dataclass\n",
    "class Students:\n",
    "    name: str\n",
    "    age: int\n",
    "    grade: str\n",
    "student2 = Students(name=\"Sushant Shah\", age=18, grade=\"A\")\n",
    "print(student2)"
   ]
  },
  {
   "cell_type": "code",
   "execution_count": 20,
   "id": "fd5d6d8c",
   "metadata": {},
   "outputs": [
    {
     "name": "stdout",
     "output_type": "stream",
     "text": [
      "Students(name='Ram shyam', age=38, grade=9)\n"
     ]
    }
   ],
   "source": [
    "student3 = Students(name=\"Ram shyam\", age=38, grade=9)\n",
    "print(student3)"
   ]
  },
  {
   "cell_type": "markdown",
   "id": "d964d162",
   "metadata": {},
   "source": [
    "### 2.Model with Optional Field"
   ]
  },
  {
   "cell_type": "code",
   "execution_count": 29,
   "id": "6d5648d8",
   "metadata": {},
   "outputs": [],
   "source": [
    "from typing import Optional\n",
    "\n",
    "class Students(BaseModel):\n",
    "    roll_no: int\n",
    "    name: str\n",
    "    department: str\n",
    "    fee : Optional[float] = None\n",
    "    is_active: Optional[bool] = True\n",
    "\n",
    "\n"
   ]
  },
  {
   "cell_type": "code",
   "execution_count": 35,
   "id": "95004b89",
   "metadata": {},
   "outputs": [
    {
     "name": "stdout",
     "output_type": "stream",
     "text": [
      "roll_no=23 name='Hari Limbu' department=' Electronics Communication' fee=None is_active=True\n"
     ]
    }
   ],
   "source": [
    "student1 = Students(roll_no= 23, name= 'Hari Limbu', department= \" Electronics Communication\")\n",
    "print(student1)"
   ]
  },
  {
   "cell_type": "code",
   "execution_count": 36,
   "id": "cc825af4",
   "metadata": {},
   "outputs": [],
   "source": [
    "from typing import Optional, List\n",
    "\n",
    "\n",
    "class Employee(BaseModel):\n",
    "    id: int\n",
    "    name: str\n",
    "    department: List[str]\n",
    "\n",
    "\n",
    "\n"
   ]
  },
  {
   "cell_type": "code",
   "execution_count": 41,
   "id": "6d03fa0f",
   "metadata": {},
   "outputs": [
    {
     "name": "stdout",
     "output_type": "stream",
     "text": [
      "id=3 name='Binilraj Adhikari' department=['Information Technology', 'Mechanical, Electronics']\n"
     ]
    }
   ],
   "source": [
    "emp = Employee(\n",
    "    id=3, \n",
    "    name='Binilraj Adhikari'\n",
    "    , department=['Information Technology','Mechanical, Electronics']\n",
    "    )\n",
    "print(emp)"
   ]
  },
  {
   "cell_type": "code",
   "execution_count": 43,
   "id": "e7599833",
   "metadata": {},
   "outputs": [
    {
     "name": "stdout",
     "output_type": "stream",
     "text": [
      "id=4 name='Sushant Shah' department=['Information Technology', 'Mechanical, Electronics']\n"
     ]
    }
   ],
   "source": [
    "emp = Employee(\n",
    "    id=4, \n",
    "    name='Sushant Shah', \n",
    "    department=('Information Technology','Mechanical, Electronics'))\n",
    "\n",
    "\n",
    "print(emp)"
   ]
  },
  {
   "cell_type": "code",
   "execution_count": null,
   "id": "9b837112",
   "metadata": {},
   "outputs": [],
   "source": []
  }
 ],
 "metadata": {
  "kernelspec": {
   "display_name": ".venv",
   "language": "python",
   "name": "python3"
  },
  "language_info": {
   "codemirror_mode": {
    "name": "ipython",
    "version": 3
   },
   "file_extension": ".py",
   "mimetype": "text/x-python",
   "name": "python",
   "nbconvert_exporter": "python",
   "pygments_lexer": "ipython3",
   "version": "3.9.6"
  }
 },
 "nbformat": 4,
 "nbformat_minor": 5
}
